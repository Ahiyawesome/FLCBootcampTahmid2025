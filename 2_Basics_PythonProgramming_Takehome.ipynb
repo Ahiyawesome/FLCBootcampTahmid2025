{
  "nbformat": 4,
  "nbformat_minor": 0,
  "metadata": {
    "colab": {
      "provenance": [],
      "toc_visible": true,
      "include_colab_link": true
    },
    "kernelspec": {
      "name": "python3",
      "display_name": "Python 3"
    },
    "language_info": {
      "name": "python"
    }
  },
  "cells": [
    {
      "cell_type": "markdown",
      "metadata": {
        "id": "view-in-github",
        "colab_type": "text"
      },
      "source": [
        "<a href=\"https://colab.research.google.com/github/Ahiyawesome/FLCBootcampTahmid2025/blob/main/2_Basics_PythonProgramming_Takehome.ipynb\" target=\"_parent\"><img src=\"https://colab.research.google.com/assets/colab-badge.svg\" alt=\"Open In Colab\"/></a>"
      ]
    },
    {
      "cell_type": "markdown",
      "source": [
        "# Personal Finance 101 with Python\n",
        "\n",
        "- Investing is crucial for wealth growth, financial security, and achieving long-term financial goals.\n",
        "- One of the biggest reasons to invest is the power of compounding, which allows your money to grow exponentially over time."
      ],
      "metadata": {
        "id": "BGhlVvcyZGWp"
      }
    },
    {
      "cell_type": "markdown",
      "source": [
        "### Understanding the Compounding Effect\n",
        "\n",
        "$$ A = P * \\left( 1 + \\frac{r}{n} \\right) ^{n*t}$$\n",
        "\n",
        "Where,\n",
        "\n",
        "- A  = Final amount\n",
        "- P  = Principal (initial investment)\n",
        "- r  = Annual interest rate (as a decimal)\n",
        "- n  = Times interest is compounded per year\n",
        "- t  = Time in years\n"
      ],
      "metadata": {
        "id": "zyYa0RR2L_8n"
      }
    },
    {
      "cell_type": "code",
      "execution_count": 1,
      "metadata": {
        "id": "XrEjSeR5UQVl",
        "outputId": "8aaa2ff7-03ea-4cff-c65d-8bb30ff07705",
        "colab": {
          "base_uri": "https://localhost:8080/"
        }
      },
      "outputs": [
        {
          "output_type": "stream",
          "name": "stdout",
          "text": [
            "Compound Interest Calculator Results:\n",
            "Principal Amount: $1000.00\n",
            "Annual Interest Rate: 6.00%\n",
            "Compounding Frequency: 1 times per year\n",
            "Number of Years: 10\n",
            "Total Amount: $1790.85\n",
            "Total Interest Earned: $790.85\n"
          ]
        }
      ],
      "source": [
        "#@title Compound Interest Calculator\n",
        "\n",
        "#@markdown Enter the principal amount (P in $):\n",
        "principal = 1000 #@param {type:\"number\"}\n",
        "\n",
        "#@markdown Enter the annual interest rate as a percentage (r):\n",
        "interest_rate = 6 #@param {type:\"number\"}\n",
        "\n",
        "#@markdown Enter the number of times interest is compounded per year (n):\n",
        "compounding_frequency = 1 #@param {type:\"number\"}\n",
        "\n",
        "#@markdown Enter the number of years (t):\n",
        "years = 10 #@param {type:\"number\"}\n",
        "\n",
        "\n",
        "# Calculate compound interest\n",
        "# 1. Convert percentage into decimal\n",
        "interest_rate_decimal = interest_rate / 100\n",
        "\n",
        "\n",
        "# 2. Calculate the final amount (A)\n",
        "final_amount = principal * (1 + (interest_rate_decimal / compounding_frequency)) ** (compounding_frequency * years)\n",
        "\n",
        "\n",
        "# 3. Calculate the total interest earned\n",
        "total_interest = final_amount - principal\n",
        "\n",
        "\n",
        "# Display the results\n",
        "print(\"Compound Interest Calculator Results:\")\n",
        "print(f\"Principal Amount: ${principal:.2f}\")\n",
        "print(f\"Annual Interest Rate: {interest_rate:.2f}%\")\n",
        "print(f\"Compounding Frequency: {compounding_frequency} times per year\")\n",
        "print(f\"Number of Years: {years}\")\n",
        "print(f\"Total Amount: ${final_amount:.2f}\")\n",
        "print(f\"Total Interest Earned: ${total_interest:.2f}\")\n"
      ]
    },
    {
      "cell_type": "markdown",
      "source": [
        "### Effect of starting principal (P)\n",
        "\n",
        "Write a function to calculate total amount and total interest earned for starting principal (P in $): 10, 50, 100, 500 and 1000. Assume r=5%, n=1 and t=5.\n",
        "\n",
        "Hint: Iterate over a list data structure containing 'P' values using a compound interest calculator function"
      ],
      "metadata": {
        "id": "ScJlnZfEbTUH"
      }
    },
    {
      "cell_type": "code",
      "source": [
        "def calculate_compound_interest(principal, interest_rate, compounding_frequency, years):\n",
        "  final_amount = principal * (1 + (interest_rate / compounding_frequency)) ** (compounding_frequency * years)\n",
        "\n",
        "  total_interest = final_amount - principal\n",
        "\n",
        "  return total_interest, final_amount\n",
        "\n",
        "\n",
        "# Calculate the effect of starting principal (more 'P')\n",
        "ps = [10, 50, 100, 500, 1000]\n",
        "r = 0.05\n",
        "n = 1\n",
        "t = 5\n",
        "\n",
        "for p in ps:\n",
        "  total_interest, final_amount = calculate_compound_interest(p, r, n, t)\n",
        "  print(f\"Principal Amount: ${p:.2f}\")\n",
        "  print(f\"Total Amount: ${final_amount:.2f}\")\n",
        "  print(f\"Total Interest Earned: ${total_interest:.2f}\")\n",
        "  print()\n",
        "\n",
        "\n"
      ],
      "metadata": {
        "id": "MICZ2cnDbrZg",
        "outputId": "63c357df-f197-4e63-a0ef-c5a4a22813ed",
        "colab": {
          "base_uri": "https://localhost:8080/"
        }
      },
      "execution_count": 5,
      "outputs": [
        {
          "output_type": "stream",
          "name": "stdout",
          "text": [
            "Principal Amount: $10.00\n",
            "Total Amount: $12.76\n",
            "Total Interest Earned: $2.76\n",
            "\n",
            "Principal Amount: $50.00\n",
            "Total Amount: $63.81\n",
            "Total Interest Earned: $13.81\n",
            "\n",
            "Principal Amount: $100.00\n",
            "Total Amount: $127.63\n",
            "Total Interest Earned: $27.63\n",
            "\n",
            "Principal Amount: $500.00\n",
            "Total Amount: $638.14\n",
            "Total Interest Earned: $138.14\n",
            "\n",
            "Principal Amount: $1000.00\n",
            "Total Amount: $1276.28\n",
            "Total Interest Earned: $276.28\n",
            "\n"
          ]
        }
      ]
    },
    {
      "cell_type": "markdown",
      "source": [
        "#### Write a simple conclusion on what the effect of starting principal (more 'P') is on a compounding interest investment?"
      ],
      "metadata": {
        "id": "BIcD3dEecSpq"
      }
    },
    {
      "cell_type": "code",
      "source": [
        "# A higher starting principal leads to a greater final amount and total interest earned over time.\n",
        "# This is because compound interest is calculated on the accumulated principal and interest, so a larger initial investment provides a bigger base for growth.\n"
      ],
      "metadata": {
        "id": "gCpivos6chhj"
      },
      "execution_count": 2,
      "outputs": []
    },
    {
      "cell_type": "markdown",
      "source": [
        "### Effect of starting early (more years of investing = more 't')\n",
        "\n",
        "Reuse the compounding interest calculator function above and determine the effect of more years of investing 't': 2yrs, 5yrs, 10yrs, 20yrs, 30yrs. Assume P=\\$100, r=5% and n=1."
      ],
      "metadata": {
        "id": "3Zi_t5Ftcsw1"
      }
    },
    {
      "cell_type": "code",
      "source": [
        "# Calculate the effect of starting early (more 't')\n",
        "ts = [2, 5, 10, 20, 30]\n",
        "p = 100\n",
        "r = 0.05\n",
        "n = 1\n",
        "\n",
        "for t in ts:\n",
        "  total_interest, final_amount = calculate_compound_interest(p, r, n, t)\n",
        "  print(f\"Principal Amount: ${p:.2f}\")\n",
        "  print(f\"Total Amount: ${final_amount:.2f}\")\n",
        "  print(f\"Total Interest Earned: ${total_interest:.2f}\")\n",
        "  print()\n",
        "\n"
      ],
      "metadata": {
        "id": "a5jHCG7NdcBf",
        "outputId": "35640048-5d2c-4660-f820-bceea3bbd8d3",
        "colab": {
          "base_uri": "https://localhost:8080/"
        }
      },
      "execution_count": 6,
      "outputs": [
        {
          "output_type": "stream",
          "name": "stdout",
          "text": [
            "Principal Amount: $100.00\n",
            "Total Amount: $110.25\n",
            "Total Interest Earned: $10.25\n",
            "\n",
            "Principal Amount: $100.00\n",
            "Total Amount: $127.63\n",
            "Total Interest Earned: $27.63\n",
            "\n",
            "Principal Amount: $100.00\n",
            "Total Amount: $162.89\n",
            "Total Interest Earned: $62.89\n",
            "\n",
            "Principal Amount: $100.00\n",
            "Total Amount: $265.33\n",
            "Total Interest Earned: $165.33\n",
            "\n",
            "Principal Amount: $100.00\n",
            "Total Amount: $432.19\n",
            "Total Interest Earned: $332.19\n",
            "\n"
          ]
        }
      ]
    },
    {
      "cell_type": "markdown",
      "source": [
        "#### Write a simple conclusion on what the effect of starting early (more 't') is on a compounding interest investment?\n",
        "The more years you save, the more money you earn."
      ],
      "metadata": {
        "id": "dkDFHmiNdosi"
      }
    },
    {
      "cell_type": "markdown",
      "source": [
        "### Effect of better rate of return (more 'r')\n",
        "\n",
        "Reuse the compounding interest calculator function above and determine the effect of better rate of return 'r': 2%, 5%, 8% and 10%. Assume P=$100, n=1 and t=5."
      ],
      "metadata": {
        "id": "b4HolM8adwzl"
      }
    },
    {
      "cell_type": "code",
      "source": [
        "# Calculate the effect of better rate of return (more 'r')\n",
        "rs = [0.02, 0.05, 0.08, 0.10]\n",
        "p = 100\n",
        "t = 5\n",
        "n = 1\n",
        "\n",
        "for r in rs:\n",
        "  total_interest, final_amount = calculate_compound_interest(p, r, n, t)\n",
        "  print(f\"Principal Amount: ${p:.2f}\")\n",
        "  print(f\"Total Amount: ${final_amount:.2f}\")\n",
        "  print(f\"Total Interest Earned: ${total_interest:.2f}\")\n",
        "  print()\n",
        "\n"
      ],
      "metadata": {
        "id": "pbcjQ24Kew56",
        "outputId": "db1f6d7d-2ad9-4121-9721-3be8a5833eff",
        "colab": {
          "base_uri": "https://localhost:8080/"
        }
      },
      "execution_count": 7,
      "outputs": [
        {
          "output_type": "stream",
          "name": "stdout",
          "text": [
            "Principal Amount: $100.00\n",
            "Total Amount: $110.41\n",
            "Total Interest Earned: $10.41\n",
            "\n",
            "Principal Amount: $100.00\n",
            "Total Amount: $127.63\n",
            "Total Interest Earned: $27.63\n",
            "\n",
            "Principal Amount: $100.00\n",
            "Total Amount: $146.93\n",
            "Total Interest Earned: $46.93\n",
            "\n",
            "Principal Amount: $100.00\n",
            "Total Amount: $161.05\n",
            "Total Interest Earned: $61.05\n",
            "\n"
          ]
        }
      ]
    },
    {
      "cell_type": "markdown",
      "source": [
        "#### Write a simple conclusion on what the effect of better rate of return (more 'r') is on a compounding interest investment?\n",
        "Better rate will earn more money"
      ],
      "metadata": {
        "id": "q5ihxgcKez4g"
      }
    },
    {
      "cell_type": "markdown",
      "source": [
        "### What happens to a compounding interest investment if you also do recurring investment (adding fixed \\$ amount in a fixed time frequency into the principal 'P')"
      ],
      "metadata": {
        "id": "8RPUEsNYe7nw"
      }
    },
    {
      "cell_type": "code",
      "source": [
        "# Write a new python function that will also take a fixed recurring deposit 'rd' every month to calculate compounding interest\n",
        "\n",
        "def calculate_compound_interest(principal, interest_rate, compounding_frequency, years, fixed_deposit):\n",
        "  periods = compounding_frequency * years\n",
        "\n",
        "  monthly_rate = interest_rate / compounding_frequency\n",
        "\n",
        "  final_amount = principal\n",
        "\n",
        "  for _ in range(periods):\n",
        "    final_amount += fixed_deposit\n",
        "\n",
        "    interest_earned = final_amount * monthly_rate\n",
        "\n",
        "    final_amount += interest_earned\n",
        "\n",
        "  total_interest = final_amount - principal - (fixed_deposit * periods)\n",
        "\n",
        "  return total_interest, final_amount\n",
        "\n"
      ],
      "metadata": {
        "id": "PXVG53KdffHD"
      },
      "execution_count": 8,
      "outputs": []
    },
    {
      "cell_type": "markdown",
      "source": [
        "#### What is the effect of disciplined investing using recurring deposits?\n",
        "\n",
        "Use the new compounding interest calculator with recurring investment to calculate the effect of disciplined investing. Assume P=$100, r=5%, n=12 (monthly compounding), t=5.\n",
        "\n",
        "Calculate for different 'rd' (in $): 0, 1, 5, 10, 50, 100"
      ],
      "metadata": {
        "id": "WoKmXBp3gaeN"
      }
    },
    {
      "cell_type": "code",
      "source": [
        "# Write code to calculate the final_amount (A) for recurring deposits into monthly compounding investment\n",
        "rds = [0,1, 5, 10, 50, 100]\n",
        "r = 0.05\n",
        "p = 100\n",
        "t = 5\n",
        "n = 12\n",
        "\n",
        "for rd in rds:\n",
        "  total_interest, final_amount = calculate_compound_interest(p, r, n, t, rd)\n",
        "  print(f\"Recurring Deposit: ${rd:.2f}\")\n",
        "  print(f\"Total Amount: ${final_amount:.2f}\")\n",
        "  print(f\"Total Interest Earned: ${total_interest:.2f}\")\n",
        "  print()\n",
        "\n"
      ],
      "metadata": {
        "id": "gz8NLxgzhHlU",
        "outputId": "cb58ac7f-3ee5-440e-9308-8420fdfd86d4",
        "colab": {
          "base_uri": "https://localhost:8080/"
        }
      },
      "execution_count": 10,
      "outputs": [
        {
          "output_type": "stream",
          "name": "stdout",
          "text": [
            "Recurring Deposit: $0.00\n",
            "Total Amount: $128.34\n",
            "Total Interest Earned: $28.34\n",
            "\n",
            "Recurring Deposit: $1.00\n",
            "Total Amount: $196.63\n",
            "Total Interest Earned: $36.63\n",
            "\n",
            "Recurring Deposit: $5.00\n",
            "Total Amount: $469.78\n",
            "Total Interest Earned: $69.78\n",
            "\n",
            "Recurring Deposit: $10.00\n",
            "Total Amount: $811.23\n",
            "Total Interest Earned: $111.23\n",
            "\n",
            "Recurring Deposit: $50.00\n",
            "Total Amount: $3542.81\n",
            "Total Interest Earned: $442.81\n",
            "\n",
            "Recurring Deposit: $100.00\n",
            "Total Amount: $6957.28\n",
            "Total Interest Earned: $857.28\n",
            "\n"
          ]
        }
      ]
    },
    {
      "cell_type": "markdown",
      "source": [
        "#### Write a simple conclusion on what is the effect of disciplined investing using recurring deposits?\n",
        "\n",
        "More deposits = more money"
      ],
      "metadata": {
        "id": "HzaDkeEmhRTd"
      }
    },
    {
      "cell_type": "markdown",
      "source": [
        "### What problems/decisions that you face in life can be solved using basic Python programming? Share atleast two ideas.\n",
        "\n",
        "Time management and info scraping (for efficiency)\n"
      ],
      "metadata": {
        "id": "V1SICqGdi3bu"
      }
    },
    {
      "cell_type": "markdown",
      "source": [
        "# Final Retrospection:\n",
        "### What challenges did you face while programming with Python?\n",
        "None\n",
        "\n",
        "\n",
        "### How did you overcome those challenges?\n",
        "N/A\n",
        "\n",
        "\n",
        "### Mention other resources you used to solve this take-home assignment\n",
        "Compound interest calculator to verify my code is correct\n",
        "\n",
        "\n",
        "### Did you use any tools (like ChatGPT) to solve the issues? What are the challenges and opportunities?\n",
        "I used the in-built AI autocomplete (I wanted to try it out).\n",
        "\n",
        "\n",
        "### After this exercise, are you feeling excited to learn more?\n",
        "Yes\n",
        "\n",
        "\n",
        "\n",
        "NOTE: Save the file with your code and text answers before committing it to your new GitHub public repository. Send a link to your file on Github to the TA."
      ],
      "metadata": {
        "id": "gnnYEjdqhh7f"
      }
    }
  ]
}